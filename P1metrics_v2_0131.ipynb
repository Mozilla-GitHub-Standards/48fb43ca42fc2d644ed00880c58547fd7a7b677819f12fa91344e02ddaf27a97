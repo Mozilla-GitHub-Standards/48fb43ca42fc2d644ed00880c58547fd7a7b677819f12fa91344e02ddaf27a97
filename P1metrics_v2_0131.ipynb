{
 "cells": [
  {
   "cell_type": "code",
   "execution_count": 1,
   "metadata": {
    "collapsed": true
   },
   "outputs": [],
   "source": [
    "from pyspark.sql import SparkSession\n",
    "spark = SparkSession.builder.getOrCreate()"
   ]
  },
  {
   "cell_type": "code",
   "execution_count": 2,
   "metadata": {
    "collapsed": false
   },
   "outputs": [
    {
     "name": "stderr",
     "output_type": "stream",
     "text": [
      "/mnt/anaconda2/lib/python2.7/site-packages/matplotlib/__init__.py:878: UserWarning: axes.color_cycle is deprecated and replaced with axes.prop_cycle; please use the latter.\n",
      "  warnings.warn(self.msg_depr % (key, alt_key))\n"
     ]
    }
   ],
   "source": [
    "%matplotlib inline\n",
    "import matplotlib.pyplot as plt\n",
    "import matplotlib\n",
    "import datetime\n",
    "import numpy as np\n",
    "from pyspark.sql.functions import *\n",
    "import seaborn as sns\n",
    "import pandas as pd\n",
    "\n",
    "sns.set()"
   ]
  },
  {
   "cell_type": "code",
   "execution_count": 3,
   "metadata": {
    "collapsed": true
   },
   "outputs": [],
   "source": [
    "ms = spark.read.option(\"mergeSchema\", \"true\").\\\n",
    "     parquet(\"s3://telemetry-parquet/main_summary/v4/\")"
   ]
  },
  {
   "cell_type": "code",
   "execution_count": 4,
   "metadata": {
    "collapsed": true
   },
   "outputs": [],
   "source": [
    "import time"
   ]
  },
  {
   "cell_type": "code",
   "execution_count": 5,
   "metadata": {
    "collapsed": true
   },
   "outputs": [],
   "source": [
    "date = '20180101'"
   ]
  },
  {
   "cell_type": "code",
   "execution_count": 6,
   "metadata": {
    "collapsed": false
   },
   "outputs": [],
   "source": [
    "period = 7\n",
    "epoch = int(time.mktime(time.strptime(date, '%Y%m%d')))\n",
    "begin = epoch - 60 * 60 * 24 * period\n",
    "begin_str = time.strftime('%Y%m%d', time.localtime(begin))"
   ]
  },
  {
   "cell_type": "code",
   "execution_count": 7,
   "metadata": {
    "collapsed": true
   },
   "outputs": [],
   "source": [
    "data = ms.filter(\"app_name = 'Firefox'\").\\\n",
    "                filter(\"normalized_channel = 'release'\").\\\n",
    "                filter(\"sample_id='42'\").\\\n",
    "                filter(\"subsession_length >= 0\").\\\n",
    "                filter(\"subsession_length <= 86400\")"
   ]
  },
  {
   "cell_type": "code",
   "execution_count": 8,
   "metadata": {
    "collapsed": true
   },
   "outputs": [],
   "source": [
    "WAU = data.filter(\"submission_date_s3 <= '%s' and submission_date_s3 > '%s'\"%(date, begin_str))\\\n",
    "        .agg(countDistinct('client_id').alias('WAU'))\\\n",
    "        .select(lit(date).alias('submission_date_s3'), '*')"
   ]
  },
  {
   "cell_type": "code",
   "execution_count": 9,
   "metadata": {
    "collapsed": false
   },
   "outputs": [
    {
     "name": "stdout",
     "output_type": "stream",
     "text": [
      "+------------------+-------+\n",
      "|submission_date_s3|    WAU|\n",
      "+------------------+-------+\n",
      "|          20180101|1477395|\n",
      "+------------------+-------+\n",
      "\n"
     ]
    }
   ],
   "source": [
    "WAU.show()"
   ]
  },
  {
   "cell_type": "code",
   "execution_count": 10,
   "metadata": {
    "collapsed": false
   },
   "outputs": [],
   "source": [
    "import datetime as DT\n",
    "today = DT.date.today()\n",
    "week_ago = today - DT.timedelta(days=7)"
   ]
  },
  {
   "cell_type": "code",
   "execution_count": 11,
   "metadata": {
    "collapsed": false
   },
   "outputs": [
    {
     "data": {
      "text/plain": [
       "datetime.date(2018, 1, 24)"
      ]
     },
     "execution_count": 11,
     "metadata": {},
     "output_type": "execute_result"
    }
   ],
   "source": [
    "week_ago"
   ]
  },
  {
   "cell_type": "code",
   "execution_count": 12,
   "metadata": {
    "collapsed": false
   },
   "outputs": [
    {
     "data": {
      "text/plain": [
       "'20180124'"
      ]
     },
     "execution_count": 12,
     "metadata": {},
     "output_type": "execute_result"
    }
   ],
   "source": [
    "week_ago.strftime('%Y%m%d')"
   ]
  },
  {
   "cell_type": "code",
   "execution_count": 13,
   "metadata": {
    "collapsed": false
   },
   "outputs": [
    {
     "data": {
      "text/plain": [
       "datetime.datetime(2018, 1, 1, 0, 0)"
      ]
     },
     "execution_count": 13,
     "metadata": {},
     "output_type": "execute_result"
    }
   ],
   "source": [
    "datetime.datetime.strptime(date, '%Y%m%d')"
   ]
  },
  {
   "cell_type": "code",
   "execution_count": 14,
   "metadata": {
    "collapsed": false
   },
   "outputs": [],
   "source": [
    "before = datetime.datetime.strptime(date, '%Y%m%d') - datetime.timedelta(days=7)"
   ]
  },
  {
   "cell_type": "code",
   "execution_count": 15,
   "metadata": {
    "collapsed": false
   },
   "outputs": [
    {
     "data": {
      "text/plain": [
       "'20171225'"
      ]
     },
     "execution_count": 15,
     "metadata": {},
     "output_type": "execute_result"
    }
   ],
   "source": [
    "before.strftime('%Y%m%d')"
   ]
  },
  {
   "cell_type": "code",
   "execution_count": 45,
   "metadata": {
    "collapsed": true
   },
   "outputs": [],
   "source": [
    "def getPAU(data, date, period, countrylist = None, localelist = None):\n",
    "    enddate = datetime.datetime.strptime(date, '%Y%m%d')\n",
    "    periodstartdate = enddate - datetime.timedelta(days=period)\n",
    "    periodstartdate_str = periodstartdate.strftime('%Y%m%d')\n",
    "    \n",
    "    WAU = data.filter(\"submission_date_s3 <= '%s' and submission_date_s3 > '%s'\"%(date, periodstartdate_str))\\\n",
    "        .agg(countDistinct('client_id').alias('PeriodCount'))\\\n",
    "        .select(lit(date).alias('submission_date_s3'), '*')\n",
    "    return WAU"
   ]
  },
  {
   "cell_type": "code",
   "execution_count": 46,
   "metadata": {
    "collapsed": false
   },
   "outputs": [
    {
     "name": "stdout",
     "output_type": "stream",
     "text": [
      "+------------------+-----------+\n",
      "|submission_date_s3|PeriodCount|\n",
      "+------------------+-----------+\n",
      "|          20180102|    1531402|\n",
      "+------------------+-----------+\n",
      "\n"
     ]
    }
   ],
   "source": [
    "getPAU(data, '20180102',7).show()"
   ]
  },
  {
   "cell_type": "code",
   "execution_count": 49,
   "metadata": {
    "collapsed": true
   },
   "outputs": [],
   "source": [
    "def getWAU(data, startdate, enddate, countrylist = None, localelist = None):\n",
    "    end_dt = datetime.datetime.strptime(enddate, '%Y%m%d').date()\n",
    "    start_dt = datetime.datetime.strptime(startdate, '%Y%m%d').date()\n",
    "    \n",
    "    delta = end_dt - start_dt\n",
    "    \n",
    "    res = (getPAU(data, startdate, 7, countrylist = None, localelist = None),)\n",
    "    for i in range(1, delta.days+1):\n",
    "        dt = start_dt + timedelta(days=i)\n",
    "        dt = dt.strftime('%Y%m%d')\n",
    "        WAU = getPAU(data, dt, 7, countrylist = None, localelist = None)\n",
    "        res += (WAU,)\n",
    "    df = res[0]\n",
    "    for item in res[1:]:\n",
    "        df = df.union(item)\n",
    "    df = df.withColumnRenamed('PeriodCount','WAU')\n",
    "    return df"
   ]
  },
  {
   "cell_type": "code",
   "execution_count": 50,
   "metadata": {
    "collapsed": false
   },
   "outputs": [
    {
     "name": "stdout",
     "output_type": "stream",
     "text": [
      "+------------------+-------+\n",
      "|submission_date_s3|    WAU|\n",
      "+------------------+-------+\n",
      "|          20180101|1477395|\n",
      "|          20180102|1531402|\n",
      "|          20180103|1560599|\n",
      "|          20180104|1574774|\n",
      "|          20180105|1570614|\n",
      "|          20180106|1576086|\n",
      "|          20180107|1590684|\n",
      "+------------------+-------+\n",
      "\n"
     ]
    }
   ],
   "source": [
    "getWAU(data, '20180101', '20180107').show()"
   ]
  },
  {
   "cell_type": "code",
   "execution_count": 52,
   "metadata": {
    "collapsed": false
   },
   "outputs": [
    {
     "name": "stdout",
     "output_type": "stream",
     "text": [
      "+------------------+-----------+\n",
      "|submission_date_s3|PeriodCount|\n",
      "+------------------+-----------+\n",
      "|          20180107|    1590684|\n",
      "+------------------+-----------+\n",
      "\n"
     ]
    }
   ],
   "source": [
    "getPAU(data, '20180107', 7, countrylist = None, localelist = None).show()"
   ]
  },
  {
   "cell_type": "code",
   "execution_count": 55,
   "metadata": {
    "collapsed": true
   },
   "outputs": [],
   "source": [
    "def getMAU(data, startdate, enddate, countrylist = None, localelist = None):\n",
    "    end_dt = datetime.datetime.strptime(enddate, '%Y%m%d').date()\n",
    "    start_dt = datetime.datetime.strptime(startdate, '%Y%m%d').date()\n",
    "    \n",
    "    delta = end_dt - start_dt\n",
    "    \n",
    "    res = (getPAU(data, startdate, 28, countrylist = None, localelist = None),)\n",
    "    for i in range(1, delta.days+1):\n",
    "        dt = start_dt + timedelta(days=i)\n",
    "        dt = dt.strftime('%Y%m%d')\n",
    "        MAU = getPAU(data, dt, 28, countrylist = None, localelist = None)\n",
    "        res += (MAU,)\n",
    "    df = res[0]\n",
    "    for item in res[1:]:\n",
    "        df = df.union(item)\n",
    "    df = df.withColumnRenamed('PeriodCount','MAU')\n",
    "    return df"
   ]
  },
  {
   "cell_type": "code",
   "execution_count": 56,
   "metadata": {
    "collapsed": false
   },
   "outputs": [
    {
     "name": "stdout",
     "output_type": "stream",
     "text": [
      "+------------------+-------+\n",
      "|submission_date_s3|    MAU|\n",
      "+------------------+-------+\n",
      "|          20180101|2564641|\n",
      "|          20180102|2556029|\n",
      "|          20180103|2550349|\n",
      "|          20180104|2544333|\n",
      "|          20180105|2540089|\n",
      "|          20180106|2539755|\n",
      "|          20180107|2538029|\n",
      "+------------------+-------+\n",
      "\n"
     ]
    }
   ],
   "source": [
    "getMAU(data, '20180101', '20180107').show()"
   ]
  },
  {
   "cell_type": "code",
   "execution_count": 59,
   "metadata": {
    "collapsed": true
   },
   "outputs": [],
   "source": [
    "def getYAU(data, startdate, enddate, countrylist = None, localelist = None):\n",
    "    end_dt = datetime.datetime.strptime(enddate, '%Y%m%d').date()\n",
    "    start_dt = datetime.datetime.strptime(startdate, '%Y%m%d').date()\n",
    "    \n",
    "    delta = end_dt - start_dt\n",
    "    \n",
    "    res = (getPAU(data, startdate, 365, countrylist, localelist),)\n",
    "    for i in range(1, delta.days+1):\n",
    "        dt = start_dt + timedelta(days=i)\n",
    "        dt = dt.strftime('%Y%m%d')\n",
    "        MAU = getPAU(data, dt, 365, countrylist = None, localelist = None)\n",
    "        res += (MAU,)\n",
    "    df = res[0]\n",
    "    for item in res[1:]:\n",
    "        df = df.union(item)\n",
    "    df = df.withColumnRenamed('PeriodCount','YAU')\n",
    "    return df"
   ]
  },
  {
   "cell_type": "code",
   "execution_count": 86,
   "metadata": {
    "collapsed": false
   },
   "outputs": [
    {
     "name": "stdout",
     "output_type": "stream",
     "text": [
      "+------------------+-------+\n",
      "|submission_date_s3|    YAU|\n",
      "+------------------+-------+\n",
      "|          20171201|8302024|\n",
      "|          20171202|8294046|\n",
      "|          20171203|8291536|\n",
      "|          20171204|8297701|\n",
      "|          20171205|8296217|\n",
      "|          20171206|8293332|\n",
      "|          20171207|8290720|\n",
      "|          20171208|8286728|\n",
      "|          20171209|8279039|\n",
      "|          20171210|8276837|\n",
      "|          20171211|8282565|\n",
      "|          20171212|8280701|\n",
      "|          20171213|8277719|\n",
      "|          20171214|8275345|\n",
      "|          20171215|8270857|\n",
      "|          20171216|8263472|\n",
      "|          20171217|8261446|\n",
      "|          20171218|8266911|\n",
      "|          20171219|8266165|\n",
      "|          20171220|8264461|\n",
      "+------------------+-------+\n",
      "only showing top 20 rows\n",
      "\n"
     ]
    }
   ],
   "source": [
    "getYAU(data, '20171201', '20180130').show()"
   ]
  },
  {
   "cell_type": "code",
   "execution_count": 83,
   "metadata": {
    "collapsed": false
   },
   "outputs": [],
   "source": [
    "def getPAU1(data, date, period, countrylist = None, localelist = None):\n",
    "    \"\"\"\n",
    "    Parameter:\n",
    "    data: data extracted from main_ping, filtered with \n",
    "         normalized_channel:release, sample_id:42, subsession_length between 0 and 86400(inclusive)\n",
    "    date: string, with the format of 'yyyyMMdd'\n",
    "    period: integer, the last XX days of the date\n",
    "    countrylist: a list of country names in string\n",
    "    localelist: a list of locale information in strings\n",
    "\n",
    "    Returns: Dataframes of the distinct client_id count in the period for the would, country, locale respectively \n",
    "    \"\"\"\n",
    "    \n",
    "    \n",
    "    enddate = datetime.datetime.strptime(date, '%Y%m%d')\n",
    "    periodstartdate = enddate - datetime.timedelta(days=period)\n",
    "    periodstartdate_str = periodstartdate.strftime('%Y%m%d')\n",
    "    \n",
    "    totalperiodcount = data.filter(\"submission_date_s3 <= '%s' and submission_date_s3 > '%s'\"%(date, periodstartdate_str))\\\n",
    "        .agg(countDistinct('client_id').alias('PeriodCount'))\\\n",
    "        .select(lit(date).alias('submission_date_s3'), '*')\n",
    "    res = (totalperiodcount,)\n",
    "    \n",
    "    if countrylist is not None:\n",
    "        countryperiodcount = data.where(col('country').isin(countrylist)).\\\n",
    "                    filter(\"submission_date_s3 <= '%s' and submission_date_s3 > '%s'\"%(date, periodstartdate_str)).\\\n",
    "                    groupBy('country').\\\n",
    "                    agg(countDistinct('client_id').alias('countryPeriodCount')).\\\n",
    "                    orderBy(desc('countryPeriodCount')).\\\n",
    "                    select(lit(date).alias('submission_date_s3'), '*')\n",
    "        res += (countryperiodcount,)\n",
    "        \n",
    "    if localelist is not None:\n",
    "        localeperiodcount = data.where(col('locale').isin(localelist)).\\\n",
    "                    filter(\"submission_date_s3 <= '%s' and submission_date_s3 > '%s'\"%(date, periodstartdate_str)).\\\n",
    "                    groupBy('locale').\\\n",
    "                    agg(countDistinct('client_id').alias('localePeriodCount')).\\\n",
    "                    orderBy(desc('localePeriodCount')).\\\n",
    "                    select(lit(date).alias('submission_date_s3'), '*')\n",
    "        res += (localeperiodcount,)\n",
    "    return res"
   ]
  },
  {
   "cell_type": "code",
   "execution_count": 84,
   "metadata": {
    "collapsed": true
   },
   "outputs": [],
   "source": [
    "countrylist = ['US','CA','MX','DE','BR','FR','IN','ID','RU','PL','IT','GB','ES','CN','JP']\n",
    "localelist = ['en-US', 'de', 'fr', 'ru','es-ES']\n",
    "date = '20180101'"
   ]
  },
  {
   "cell_type": "code",
   "execution_count": 85,
   "metadata": {
    "collapsed": false
   },
   "outputs": [
    {
     "name": "stdout",
     "output_type": "stream",
     "text": [
      "+------------------+------+-----------------+\n",
      "|submission_date_s3|locale|localePeriodCount|\n",
      "+------------------+------+-----------------+\n",
      "|          20180101| en-US|           581539|\n",
      "|          20180101|    de|           169090|\n",
      "|          20180101|    fr|           112137|\n",
      "|          20180101|    ru|            89025|\n",
      "|          20180101| es-ES|            78647|\n",
      "+------------------+------+-----------------+\n",
      "\n"
     ]
    }
   ],
   "source": [
    "getPAU1(data, date,7,countrylist,localelist)[2].show()"
   ]
  },
  {
   "cell_type": "markdown",
   "metadata": {},
   "source": [
    "### backfill metiod"
   ]
  },
  {
   "cell_type": "code",
   "execution_count": 91,
   "metadata": {
    "collapsed": true
   },
   "outputs": [],
   "source": [
    "def countTrue(column):\n",
    "    return sum(column.cast('int'))\n",
    "\n",
    "# Used to convert seconds into days or visa-versa\n",
    "one_day_secs = 60 * 60 * 24\n",
    "\n",
    "# Day that analysis starts on\n",
    "start_date = '20160601'\n",
    "\n",
    "# Get the timestamps in number of seconds and days from 1970-01-01\n",
    "start_timestamp_s = epoch = int(time.mktime(time.strptime(start_date, \"%Y%m%d\")))\n",
    "start_timestamp_day = int(start_timestamp_s / one_day_secs)\n",
    "\n",
    "submission_timestamp_s = unix_timestamp('submission_date_s3', format = 'yyyyMMdd')\n",
    "submission_timestamp_day = (submission_timestamp_s / one_day_secs).cast('int')\n",
    "submission_timestamp_week = (submission_timestamp_s / one_day_secs / 7).cast('int')"
   ]
  },
  {
   "cell_type": "code",
   "execution_count": 92,
   "metadata": {
    "collapsed": true
   },
   "outputs": [],
   "source": [
    "def activeUserRolling(df, period):\n",
    "    last_date = df.select(max('submission_date_s3')).take(1)[0][0]\n",
    "    \n",
    "    new_cols = [((col('timestamp_day') - i) / period).cast('int').alias('offset_%d'%i) for i in xrange(period)]\n",
    "\n",
    "    df = df.select('submission_date_s3', 'client_id').distinct()\n",
    "    df = df.select('*', submission_timestamp_day.alias('timestamp_day'))\n",
    "    \n",
    "    df = df.select('*', *new_cols)\n",
    "    \n",
    "    df = df.cache()\n",
    "    active_user_dfs = []\n",
    "    for i in range(period):\n",
    "        active_user_dfs.append(df.groupBy('offset_%d'%i)\\\n",
    "            .agg(max('submission_date_s3').alias('submission_date_s3'), countDistinct('client_id').alias('active_users'))\\\n",
    "            .select('submission_date_s3', 'active_users')\\\n",
    "            .filter(\"submission_date_s3 != '%s'\"%last_date))\n",
    "    \n",
    "    final = active_user_dfs[0]\n",
    "    for f in active_user_dfs[1:]:\n",
    "        final = final.union(f)\n",
    "    \n",
    "    return final\n",
    "\n",
    "def backfillMAU(data):\n",
    "    return activeUserRolling(data, 28)\n",
    "\n",
    "def backfillWAU(data):\n",
    "    return activeUserRolling(data, 7)\n"
   ]
  },
  {
   "cell_type": "code",
   "execution_count": 96,
   "metadata": {
    "collapsed": false
   },
   "outputs": [
    {
     "name": "stdout",
     "output_type": "stream",
     "text": [
      "+------------------+------------+\n",
      "|submission_date_s3|active_users|\n",
      "+------------------+------------+\n",
      "|          20180101|     2564641|\n",
      "+------------------+------------+\n",
      "\n"
     ]
    }
   ],
   "source": [
    "backfillMAU(data).filter(\"submission_date_s3 == '20180101'\").show()"
   ]
  },
  {
   "cell_type": "code",
   "execution_count": null,
   "metadata": {
    "collapsed": true
   },
   "outputs": [],
   "source": []
  }
 ],
 "metadata": {
  "anaconda-cloud": {},
  "kernelspec": {
   "display_name": "Python [default]",
   "language": "python",
   "name": "python2"
  },
  "language_info": {
   "codemirror_mode": {
    "name": "ipython",
    "version": 2
   },
   "file_extension": ".py",
   "mimetype": "text/x-python",
   "name": "python",
   "nbconvert_exporter": "python",
   "pygments_lexer": "ipython2",
   "version": "2.7.12"
  }
 },
 "nbformat": 4,
 "nbformat_minor": 1
}
