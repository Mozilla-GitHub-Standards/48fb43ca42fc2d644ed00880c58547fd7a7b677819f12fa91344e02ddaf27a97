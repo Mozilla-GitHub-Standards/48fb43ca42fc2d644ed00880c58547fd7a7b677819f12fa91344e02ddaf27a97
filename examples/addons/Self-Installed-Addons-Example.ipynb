{
 "cells": [
  {
   "cell_type": "markdown",
   "metadata": {},
   "source": [
    "This notebook is an example of how to isolate self-installed add-ons. Due to Firefox initiatives like Test Pilot and Shield, the add-ons population sometimes gets polluted with \"special\" add-ons that (in the data) look like normal, self-installed add-ons. \n",
    "\n",
    "\n",
    "Whats the deal?\n",
    "\n",
    " 1. Test Pilot add-ons technically are self installed, however these add-ons are a Firefox initiative and aren't always \"self discovered\". Those that do install TP add-ons, are typically advanced users part of an \"opt-in\" group.\n",
    "\n",
    " 2. Shield add-ons are used in either opt-in or opt-out experiments. We especially want to ignore opt-out shield add-ons, as they are silently installed without the user's knowledge (clearly not a self-install). We ignore opt-in shield studies for reasons outline in (1).\n",
    " \n",
    " 3. The goal is to isolate the average add-on user"
   ]
  },
  {
   "cell_type": "code",
   "execution_count": 1,
   "metadata": {
    "collapsed": false
   },
   "outputs": [
    {
     "name": "stderr",
     "output_type": "stream",
     "text": [
      "/mnt/anaconda2/lib/python2.7/site-packages/matplotlib/__init__.py:878: UserWarning: axes.color_cycle is deprecated and replaced with axes.prop_cycle; please use the latter.\n",
      "  warnings.warn(self.msg_depr % (key, alt_key))\n"
     ]
    }
   ],
   "source": [
    "import matplotlib.pyplot as plt\n",
    "import seaborn as sns\n",
    "import datetime as dt\n",
    "import urllib\n",
    "import json\n",
    "import pandas as pd\n",
    "import pyspark.sql.functions as F\n",
    "import pyspark.sql.types as st\n",
    "\n",
    "sns.set_style('whitegrid')\n",
    "% matplotlib inline"
   ]
  },
  {
   "cell_type": "markdown",
   "metadata": {},
   "source": [
    "The functions and objects in the cell below allow us to filter out the add-ons we don't consider self-installs. \n",
    "\n",
    "We will filter addons that\n",
    "\n",
    "* Are a system add-on ( `is_system=True` )\n",
    "* Are a side-loaded add-on ( `foreign_install=True`)\n",
    "* Are **not** a Test Pilot Add-on\n",
    "* Are **not** the Unified Search Experiment\n",
    "* Do **not** contain `@mozilla` or `@shield.mozilla` in their id\n",
    "\n",
    "In the future, all shield add-ons will be suffixed by `@shield.mozilla*`, however there are some still in the wild, (or were at some point in the wild) that use a `@mozilla*` suffix or have no mozilla reference in their guid (i.e. the Unified Search Experiment, which was a huge experiment and responsible for the now deprecated charts that live at the bottom of [this dashboard](https://sql.telemetry.mozilla.org/dashboard/add-on-okrs_1)).\n",
    "\n",
    "\n",
    "All this logic is applied in the `has_self_installs()` UDF.\n"
   ]
  },
  {
   "cell_type": "code",
   "execution_count": 8,
   "metadata": {
    "collapsed": true
   },
   "outputs": [],
   "source": [
    "def get_test_pilot_addons():\n",
    "    '''\n",
    "    Fetches all the live test pilot experiments listed in\n",
    "    the experiments.json file. \n",
    "    \n",
    "    returns a list of addon_ids\n",
    "    '''\n",
    "    url = \"https://testpilot.firefox.com/api/experiments.json\"\n",
    "    response = urllib.urlopen(url)\n",
    "    data = json.loads(response.read())\n",
    "    all_tp_addons = [\"@testpilot-addon\"] + [i.get(\"addon_id\") for i in data['results'] if i.get(\"addon_id\")]\n",
    "    return all_tp_addons\n",
    "\n",
    "\n",
    "\n",
    "# grab all tp addons without a mozilla suffix\n",
    "NON_MOZ_TP = [i for i in get_test_pilot_addons() if \"@mozilla\" not in i]\n",
    "\n",
    "# this study is everywhere\n",
    "UNIFIED_SEARCH_STR = '@unified-urlbar-shield-study-'\n",
    "\n",
    "def _has_self_installs(addons):\n",
    "    if addons:\n",
    "        for i in addons:\n",
    "            addon_id = i.addon_id\n",
    "            if not i.is_system and not i.foreign_install:\n",
    "                if addon_id not in NON_MOZ_TP and UNIFIED_SEARCH_STR not in addon_id:\n",
    "                    return \"@mozilla\" not in addon_id and \"@shield.mozilla\" not in addon_id\n",
    "    return False\n",
    "\n",
    "has_self_installs = F.udf(_has_self_installs, st.BooleanType())"
   ]
  },
  {
   "cell_type": "markdown",
   "metadata": {},
   "source": [
    " Load 1% of `main_summary` for release over last week\n"
   ]
  },
  {
   "cell_type": "code",
   "execution_count": 5,
   "metadata": {
    "collapsed": true
   },
   "outputs": [],
   "source": [
    "one_week_ago = (dt.datetime.now() - dt.timedelta(days=7)).strftime(\"%Y%m%d\")"
   ]
  },
  {
   "cell_type": "code",
   "execution_count": 6,
   "metadata": {
    "collapsed": false
   },
   "outputs": [],
   "source": [
    "# load 1% of main_summary for release over last week\n",
    "ms = sqlContext.read.option(\"mergeSchema\", True)\\\n",
    "               .parquet(\"s3://telemetry-parquet/main_summary/v4\")\\\n",
    "               .filter(\"normalized_channel = 'release'\")\\\n",
    "               .filter(\"app_name = 'Firefox'\")\\\n",
    "               .filter(\"sample_id = '42'\")\\\n",
    "               .filter(\"submission_date_s3 >= '{}'\".format(one_week_ago))"
   ]
  },
  {
   "cell_type": "code",
   "execution_count": 9,
   "metadata": {
    "collapsed": false
   },
   "outputs": [],
   "source": [
    "df = ms.select(\"submission_date_s3\", \n",
    "               \"client_id\", \n",
    "               has_self_installs(\"active_addons\").alias(\"has_self_installs\"))\\\n",
    "       .distinct()\\\n",
    "       .groupBy(\"submission_date_s3\", \"has_self_installs\").count().toPandas()"
   ]
  },
  {
   "cell_type": "markdown",
   "metadata": {},
   "source": [
    "Just some gross pandas munging"
   ]
  },
  {
   "cell_type": "code",
   "execution_count": 10,
   "metadata": {
    "collapsed": false
   },
   "outputs": [],
   "source": [
    "# format date\n",
    "df.submission_date_s3 = pd.to_datetime(df.submission_date_s3, format='%Y%m%d')"
   ]
  },
  {
   "cell_type": "code",
   "execution_count": 11,
   "metadata": {
    "collapsed": false
   },
   "outputs": [],
   "source": [
    "# get total daily count of clients\n",
    "agg = df[['submission_date_s3', 'count']].groupby('submission_date_s3').sum().reset_index()\n",
    "agg.columns = ['submission_date_s3', 'count_total']"
   ]
  },
  {
   "cell_type": "code",
   "execution_count": 12,
   "metadata": {
    "collapsed": false
   },
   "outputs": [],
   "source": [
    "# merge and create percentage\n",
    "df_merged = pd.merge(df, agg, on='submission_date_s3')\n",
    "df_merged['pct_self_installs'] = df_merged['count']  / df_merged['count_total'] * 100"
   ]
  },
  {
   "cell_type": "markdown",
   "metadata": {},
   "source": [
    "Note that we see day-of-week effects for the percentage of users with self-installed add-ons. The percentage goes up on the weekends. Overall, when smoothed, the percentage of users with self-installs is ~40%. You can also see this line over a longer history [here](https://metrics.mozilla.com/protected/bmiroglio/firefox-addons/_site/addonCounts-release-beta.html)."
   ]
  },
  {
   "cell_type": "code",
   "execution_count": 24,
   "metadata": {
    "collapsed": false
   },
   "outputs": [
    {
     "data": {
      "image/png": "[encoded data removed]",
      "text/plain": [
       "<matplotlib.figure.Figure at 0x7f8f73151e90>"
      ]
     },
     "metadata": {},
     "output_type": "display_data"
    }
   ],
   "source": [
    "plt.rcParams['figure.figsize'] = (10, 5)\n",
    "\n",
    "df_merged[df_merged.has_self_installs==True]\\\n",
    "  .plot(x='submission_date_s3', \n",
    "        y='pct_self_installs', \n",
    "        title=\"% Clients with Self-Installed Add-ons\",\n",
    "        legend=False)\n",
    "plt.ylabel('%')\n",
    "plt.show()"
   ]
  }
 ],
 "metadata": {
  "anaconda-cloud": {},
  "kernelspec": {
   "display_name": "Python [default]",
   "language": "python",
   "name": "python2"
  },
  "language_info": {
   "codemirror_mode": {
    "name": "ipython",
    "version": 2
   },
   "file_extension": ".py",
   "mimetype": "text/x-python",
   "name": "python",
   "nbconvert_exporter": "python",
   "pygments_lexer": "ipython2",
   "version": "2.7.12"
  }
 },
 "nbformat": 4,
 "nbformat_minor": 1
}
